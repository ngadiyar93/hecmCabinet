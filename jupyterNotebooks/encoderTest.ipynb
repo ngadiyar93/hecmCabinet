{
 "cells": [
  {
   "cell_type": "code",
   "execution_count": 5,
   "metadata": {
    "scrolled": true
   },
   "outputs": [
    {
     "ename": "TimeoutError",
     "evalue": "[WinError 10060] A connection attempt failed because the connected party did not properly respond after a period of time, or established connection failed because connected host has failed to respond",
     "output_type": "error",
     "traceback": [
      "\u001b[1;31m---------------------------------------------------------------------------\u001b[0m",
      "\u001b[1;31mTimeoutError\u001b[0m                              Traceback (most recent call last)",
      "\u001b[1;32m<ipython-input-5-8404cdd6a546>\u001b[0m in \u001b[0;36m<module>\u001b[1;34m\u001b[0m\n\u001b[0;32m     18\u001b[0m \u001b[1;33m\u001b[0m\u001b[0m\n\u001b[0;32m     19\u001b[0m \u001b[1;31m# Set up the default ASCII command socket\u001b[0m\u001b[1;33m\u001b[0m\u001b[1;33m\u001b[0m\u001b[1;33m\u001b[0m\u001b[0m\n\u001b[1;32m---> 20\u001b[1;33m \u001b[0ms0\u001b[0m\u001b[1;33m,\u001b[0m \u001b[0ms0_id\u001b[0m \u001b[1;33m=\u001b[0m \u001b[0mamdc\u001b[0m\u001b[1;33m.\u001b[0m\u001b[0meth_new_socket\u001b[0m\u001b[1;33m(\u001b[0m\u001b[1;34m'ascii_cmd'\u001b[0m\u001b[1;33m)\u001b[0m\u001b[1;33m\u001b[0m\u001b[1;33m\u001b[0m\u001b[0m\n\u001b[0m\u001b[0;32m     21\u001b[0m \u001b[0mamdc\u001b[0m\u001b[1;33m.\u001b[0m\u001b[0meth_set_default_ascii_cmd_socket\u001b[0m\u001b[1;33m(\u001b[0m\u001b[0ms0\u001b[0m\u001b[1;33m)\u001b[0m\u001b[1;33m\u001b[0m\u001b[1;33m\u001b[0m\u001b[0m\n\u001b[0;32m     22\u001b[0m \u001b[1;33m\u001b[0m\u001b[0m\n",
      "\u001b[1;32mD:\\ProjectSpace\\GitHub\\driveCabinet\\AMDC-Firmware\\scripts\\AMDC.py\u001b[0m in \u001b[0;36meth_new_socket\u001b[1;34m(self, socket_type)\u001b[0m\n\u001b[0;32m     61\u001b[0m \u001b[1;33m\u001b[0m\u001b[0m\n\u001b[0;32m     62\u001b[0m         \u001b[0ms\u001b[0m \u001b[1;33m=\u001b[0m \u001b[0msocket\u001b[0m\u001b[1;33m.\u001b[0m\u001b[0msocket\u001b[0m\u001b[1;33m(\u001b[0m\u001b[0msocket\u001b[0m\u001b[1;33m.\u001b[0m\u001b[0mAF_INET\u001b[0m\u001b[1;33m,\u001b[0m \u001b[0msocket\u001b[0m\u001b[1;33m.\u001b[0m\u001b[0mSOCK_STREAM\u001b[0m\u001b[1;33m)\u001b[0m\u001b[1;33m\u001b[0m\u001b[1;33m\u001b[0m\u001b[0m\n\u001b[1;32m---> 63\u001b[1;33m         \u001b[0ms\u001b[0m\u001b[1;33m.\u001b[0m\u001b[0mconnect\u001b[0m\u001b[1;33m(\u001b[0m\u001b[1;33m(\u001b[0m\u001b[0mself\u001b[0m\u001b[1;33m.\u001b[0m\u001b[0mcomm_eth_amdc_ip_addr\u001b[0m\u001b[1;33m,\u001b[0m \u001b[0mself\u001b[0m\u001b[1;33m.\u001b[0m\u001b[0mcomm_eth_amdc_ip_port\u001b[0m\u001b[1;33m)\u001b[0m\u001b[1;33m)\u001b[0m\u001b[1;33m\u001b[0m\u001b[1;33m\u001b[0m\u001b[0m\n\u001b[0m\u001b[0;32m     64\u001b[0m \u001b[1;33m\u001b[0m\u001b[0m\n\u001b[0;32m     65\u001b[0m         \u001b[0ms\u001b[0m\u001b[1;33m.\u001b[0m\u001b[0msetblocking\u001b[0m\u001b[1;33m(\u001b[0m\u001b[1;36m1\u001b[0m\u001b[1;33m)\u001b[0m\u001b[1;33m\u001b[0m\u001b[1;33m\u001b[0m\u001b[0m\n",
      "\u001b[1;31mTimeoutError\u001b[0m: [WinError 10060] A connection attempt failed because the connected party did not properly respond after a period of time, or established connection failed because connected host has failed to respond"
     ]
    }
   ],
   "source": [
    "import sys\n",
    "import time\n",
    "import pathlib as pl\n",
    "scripts_folder = r'D:\\ProjectSpace\\GitHub\\driveCabinet\\AMDC-Firmware\\scripts'\n",
    "sys.path.append(scripts_folder)\n",
    "\n",
    "from AMDC import AMDC\n",
    "from AMDC_Logger import AMDC_Logger, find_mapfile\n",
    "\n",
    "## Setup Logger\n",
    "amdc = AMDC()\n",
    "\n",
    "# Set comm defaults for UART\n",
    "amdc.setup_comm_defaults('eth')\n",
    "\n",
    "# Init ethernet \n",
    "amdc.eth_init()\n",
    "\n",
    "# Set up the default ASCII command socket\n",
    "s0, s0_id = amdc.eth_new_socket('ascii_cmd')\n",
    "amdc.eth_set_default_ascii_cmd_socket(s0)\n",
    "\n",
    "mapfile_path = find_mapfile('D:\\ProjectSpace\\GitHub\\driveCabinet')\n",
    "logger = AMDC_Logger(AMDC = amdc, mapfile = mapfile_path)\n",
    "logger.sync()\n",
    "\n",
    "## Register variables\n",
    "user_app_c_code_path = pl.Path(r'D:\\ProjectSpace\\GitHub\\driveCabinet\\myCode\\usr\\encoderTest\\task_encoderTest.c')                          # SET THIS TO PATH OF YOUR USER APPLICATION CODE\n",
    "logger.register('LOG_theta_enc', samples_per_sec = 10000, var_type = 'double')\n",
    "logger.info()\n",
    "####################   COLLECT DATA   ####################\n",
    "# Clear the logger, then record data\n",
    "logger.clear_all() \n",
    "logger.start()\n",
    "# DATA IS BEING RECORDED\n",
    "time.sleep(1)\n",
    "\n",
    "logger.stop()\n",
    "\n",
    "####################   DUMP DATA AND PLOT   ####################\n",
    "data = logger.dump(file = 'encoderTest.csv')\n",
    "data.plot()\n"
   ]
  },
  {
   "cell_type": "code",
   "execution_count": null,
   "metadata": {},
   "outputs": [],
   "source": []
  }
 ],
 "metadata": {
  "kernelspec": {
   "display_name": "Python 3",
   "language": "python",
   "name": "python3"
  },
  "language_info": {
   "codemirror_mode": {
    "name": "ipython",
    "version": 3
   },
   "file_extension": ".py",
   "mimetype": "text/x-python",
   "name": "python",
   "nbconvert_exporter": "python",
   "pygments_lexer": "ipython3",
   "version": "3.7.6"
  }
 },
 "nbformat": 4,
 "nbformat_minor": 4
}

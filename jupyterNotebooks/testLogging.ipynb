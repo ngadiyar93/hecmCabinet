{
 "cells": [
  {
   "cell_type": "code",
   "execution_count": 24,
   "metadata": {},
   "outputs": [
    {
     "name": "stdout",
     "output_type": "stream",
     "text": [
      "\t> log info\n",
      "Error: Variable already exists\n",
      "\t> log info\n",
      "###################   AMDC LOGGER INFO   ###################\n",
      "\n",
      "Variable Name:      Index:         Type:         Sample Rate [Hz]:    Number of Samples:\n",
      "LOG_theta_Enc         0            double        6024.096385542169          5053     \n",
      "\n",
      "\t> log empty_all\n",
      "['log empty_all', 'SUCCESS']\n",
      "\t> log start\n",
      "['log start', 'SUCCESS']\n",
      "\t> log stop\n",
      "['log stop', 'SUCCESS']\n",
      "\t> log dump uart bin 0\n",
      "Dumping: LOG_theta_Enc\n",
      "Dump took: 2.563  sec\n",
      "Dump rate: 1990.785  sps\n",
      "Num samples: 5102 \n",
      "\n"
     ]
    },
    {
     "data": {
      "text/plain": [
       "<matplotlib.axes._subplots.AxesSubplot at 0x26225878c88>"
      ]
     },
     "execution_count": 24,
     "metadata": {},
     "output_type": "execute_result"
    },
    {
     "data": {
      "image/png": "[encoded data removed]",
      "text/plain": [
       "<Figure size 432x288 with 1 Axes>"
      ]
     },
     "metadata": {
      "needs_background": "light"
     },
     "output_type": "display_data"
    }
   ],
   "source": [
    "import time\n",
    "import pathlib as pl\n",
    "import sys\n",
    "repo_dir = 'D:\\ProjectSpace\\GitHub\\driveCabinet'                                      # CHANGE THIS TO YOUR REPO DIRECTORY\n",
    "repo_dir = pl.Path(repo_dir)\n",
    "scripts_folder = repo_dir / 'AMDC-Firmware' / 'scripts'  \n",
    "sys.path.append(str(scripts_folder))\n",
    "\n",
    "from AMDC import AMDC\n",
    "from AMDC_Logger import AMDC_Logger, find_mapfile\n",
    "\n",
    "####################   SETUP LOGGER   ####################\n",
    "amdc = AMDC()\n",
    "amdc.setup_comm_defaults('uart')\n",
    "amdc.uart_init('COM3')                         # MIGHT HAVE TO CHANGE THE PORT NUMBER\n",
    "amdc.connect() #opens up serial communication\n",
    "\n",
    "mapfile_path = find_mapfile(repo_dir)\n",
    "logger = AMDC_Logger(AMDC = amdc, mapfile = mapfile_path)\n",
    "logger.sync()\n",
    "\n",
    "####################   REGISTER VARIABLES   ####################\n",
    "user_app_c_code_path = pl.Path(r'D:\\ProjectSpace\\GitHub\\driveCabinet\\myCode\\usr\\encoderTest\\task_encoderTest.c')                          # SET THIS TO PATH OF YOUR USER APPLICATION CODE\n",
    "#logger.auto_register(user_app_c_code_path)\n",
    "#logger.register('LOG_Ia', var_type = 'float', samples_per_sec = 6000)\n",
    "# logger.register('LOG_Iqref', var_type = 'float', samples_per_sec = 6000)\n",
    "# logger.register('LOG_Idref', var_type = 'float', samples_per_sec = 6000)\n",
    "# logger.register('LOG_Id', var_type = 'double', samples_per_sec = 6000)\n",
    "# logger.register('LOG_Iq', var_type = 'double', samples_per_sec = 6000)\n",
    "# #logger.register('LOG_VcDuty', var_type = 'double', samples_per_sec = 6000)\n",
    "#logger.unregister('LOG_theta_Enc')\n",
    "logger.register('LOG_theta_Enc', samples_per_sec = 6000, var_type = 'double')\n",
    "\n",
    "\n",
    "# View which variables are logged\n",
    "logger.info()\n",
    "# amdc.cmd(\"hw pwm off\")\n",
    "# amdc.cmd(\"hw pwm on\")\n",
    "# amdc.cmd(\"rlCC id 0\")\n",
    "# amdc.cmd(\"rlCC iq 2\")\n",
    "####################   COLLECT DATA   ####################\n",
    "# Clear the logger, then record data\n",
    "logger.clear_all() \n",
    "logger.start()\n",
    "# DATA IS BEING RECORDED\n",
    "time.sleep(1)\n",
    "\n",
    "logger.stop()\n",
    "\n",
    "####################   DUMP DATA AND PLOT   ####################\n",
    "data = logger.dump(file = 'Enc15kRPM.csv')\n",
    "data.plot()\n"
   ]
  },
  {
   "cell_type": "code",
   "execution_count": 4,
   "metadata": {},
   "outputs": [
    {
     "ename": "PortNotOpenError",
     "evalue": "Attempting to use a port that is not open",
     "output_type": "error",
     "traceback": [
      "\u001b[1;31m---------------------------------------------------------------------------\u001b[0m",
      "\u001b[1;31mPortNotOpenError\u001b[0m                          Traceback (most recent call last)",
      "\u001b[1;32m<ipython-input-4-c7faf6abaa65>\u001b[0m in \u001b[0;36m<module>\u001b[1;34m\u001b[0m\n\u001b[1;32m----> 1\u001b[1;33m \u001b[0mamdc\u001b[0m\u001b[1;33m.\u001b[0m\u001b[0mcmd\u001b[0m\u001b[1;33m(\u001b[0m\u001b[1;34m\"help\"\u001b[0m\u001b[1;33m)\u001b[0m\u001b[1;33m\u001b[0m\u001b[1;33m\u001b[0m\u001b[0m\n\u001b[0m",
      "\u001b[1;32mD:\\ProjectSpace\\GitHub\\driveCabinet\\AMDC-Firmware\\scripts\\AMDC.py\u001b[0m in \u001b[0;36mcmd\u001b[1;34m(self, cmd_str, timeout_sec)\u001b[0m\n\u001b[0;32m    159\u001b[0m         \u001b[1;32mif\u001b[0m \u001b[0mself\u001b[0m\u001b[1;33m.\u001b[0m\u001b[0mcomm_method\u001b[0m \u001b[1;32mis\u001b[0m \u001b[1;34m'uart'\u001b[0m\u001b[1;33m:\u001b[0m\u001b[1;33m\u001b[0m\u001b[1;33m\u001b[0m\u001b[0m\n\u001b[0;32m    160\u001b[0m             \u001b[1;32mfor\u001b[0m \u001b[0mb\u001b[0m \u001b[1;32min\u001b[0m \u001b[0mto_send_bytes\u001b[0m\u001b[1;33m:\u001b[0m\u001b[1;33m\u001b[0m\u001b[1;33m\u001b[0m\u001b[0m\n\u001b[1;32m--> 161\u001b[1;33m                 \u001b[0mself\u001b[0m\u001b[1;33m.\u001b[0m\u001b[0mcomm_uart_ser\u001b[0m\u001b[1;33m.\u001b[0m\u001b[0mwrite\u001b[0m\u001b[1;33m(\u001b[0m\u001b[0mbytes\u001b[0m\u001b[1;33m(\u001b[0m\u001b[1;33m[\u001b[0m\u001b[0mb\u001b[0m\u001b[1;33m]\u001b[0m\u001b[1;33m)\u001b[0m\u001b[1;33m)\u001b[0m\u001b[1;33m\u001b[0m\u001b[1;33m\u001b[0m\u001b[0m\n\u001b[0m\u001b[0;32m    162\u001b[0m         \u001b[1;32melif\u001b[0m \u001b[0mself\u001b[0m\u001b[1;33m.\u001b[0m\u001b[0mcomm_method\u001b[0m \u001b[1;32mis\u001b[0m \u001b[1;34m'eth'\u001b[0m\u001b[1;33m:\u001b[0m\u001b[1;33m\u001b[0m\u001b[1;33m\u001b[0m\u001b[0m\n\u001b[0;32m    163\u001b[0m             \u001b[0mself\u001b[0m\u001b[1;33m.\u001b[0m\u001b[0mcomm_eth_default_ascii_cmd_socket\u001b[0m\u001b[1;33m.\u001b[0m\u001b[0msend\u001b[0m\u001b[1;33m(\u001b[0m\u001b[0mto_send_bytes\u001b[0m\u001b[1;33m)\u001b[0m\u001b[1;33m\u001b[0m\u001b[1;33m\u001b[0m\u001b[0m\n",
      "\u001b[1;32m~\\anaconda3\\lib\\site-packages\\serial\\serialwin32.py\u001b[0m in \u001b[0;36mwrite\u001b[1;34m(self, data)\u001b[0m\n\u001b[0;32m    304\u001b[0m         \u001b[1;34m\"\"\"Output the given byte string over the serial port.\"\"\"\u001b[0m\u001b[1;33m\u001b[0m\u001b[1;33m\u001b[0m\u001b[0m\n\u001b[0;32m    305\u001b[0m         \u001b[1;32mif\u001b[0m \u001b[1;32mnot\u001b[0m \u001b[0mself\u001b[0m\u001b[1;33m.\u001b[0m\u001b[0mis_open\u001b[0m\u001b[1;33m:\u001b[0m\u001b[1;33m\u001b[0m\u001b[1;33m\u001b[0m\u001b[0m\n\u001b[1;32m--> 306\u001b[1;33m             \u001b[1;32mraise\u001b[0m \u001b[0mPortNotOpenError\u001b[0m\u001b[1;33m(\u001b[0m\u001b[1;33m)\u001b[0m\u001b[1;33m\u001b[0m\u001b[1;33m\u001b[0m\u001b[0m\n\u001b[0m\u001b[0;32m    307\u001b[0m         \u001b[1;31m#~ if not isinstance(data, (bytes, bytearray)):\u001b[0m\u001b[1;33m\u001b[0m\u001b[1;33m\u001b[0m\u001b[1;33m\u001b[0m\u001b[0m\n\u001b[0;32m    308\u001b[0m             \u001b[1;31m#~ raise TypeError('expected %s or bytearray, got %s' % (bytes, type(data)))\u001b[0m\u001b[1;33m\u001b[0m\u001b[1;33m\u001b[0m\u001b[1;33m\u001b[0m\u001b[0m\n",
      "\u001b[1;31mPortNotOpenError\u001b[0m: Attempting to use a port that is not open"
     ]
    }
   ],
   "source": [
    "amdc.cmd(\"help\")"
   ]
  },
  {
   "cell_type": "code",
   "execution_count": 22,
   "metadata": {},
   "outputs": [
    {
     "ename": "SerialException",
     "evalue": "Attempting to use a port that is not open",
     "output_type": "error",
     "traceback": [
      "\u001b[1;31m---------------------------------------------------------------------------\u001b[0m",
      "\u001b[1;31mSerialException\u001b[0m                           Traceback (most recent call last)",
      "\u001b[1;32m<ipython-input-22-070506e5588b>\u001b[0m in \u001b[0;36m<module>\u001b[1;34m\u001b[0m\n\u001b[1;32m----> 1\u001b[1;33m \u001b[0mamdc\u001b[0m\u001b[1;33m.\u001b[0m\u001b[0mcmd\u001b[0m\u001b[1;33m(\u001b[0m\u001b[1;34m\"tdeinit\"\u001b[0m\u001b[1;33m)\u001b[0m\u001b[1;33m\u001b[0m\u001b[1;33m\u001b[0m\u001b[0m\n\u001b[0m",
      "\u001b[1;32mC:\\Projectspace\\hecmCabinet\\AMDC-Firmware\\scripts\\AMDC.py\u001b[0m in \u001b[0;36mcmd\u001b[1;34m(self, cmd_str, timeout_sec)\u001b[0m\n\u001b[0;32m    159\u001b[0m         \u001b[1;32mif\u001b[0m \u001b[0mself\u001b[0m\u001b[1;33m.\u001b[0m\u001b[0mcomm_method\u001b[0m \u001b[1;32mis\u001b[0m \u001b[1;34m'uart'\u001b[0m\u001b[1;33m:\u001b[0m\u001b[1;33m\u001b[0m\u001b[1;33m\u001b[0m\u001b[0m\n\u001b[0;32m    160\u001b[0m             \u001b[1;32mfor\u001b[0m \u001b[0mb\u001b[0m \u001b[1;32min\u001b[0m \u001b[0mto_send_bytes\u001b[0m\u001b[1;33m:\u001b[0m\u001b[1;33m\u001b[0m\u001b[1;33m\u001b[0m\u001b[0m\n\u001b[1;32m--> 161\u001b[1;33m                 \u001b[0mself\u001b[0m\u001b[1;33m.\u001b[0m\u001b[0mcomm_uart_ser\u001b[0m\u001b[1;33m.\u001b[0m\u001b[0mwrite\u001b[0m\u001b[1;33m(\u001b[0m\u001b[0mbytes\u001b[0m\u001b[1;33m(\u001b[0m\u001b[1;33m[\u001b[0m\u001b[0mb\u001b[0m\u001b[1;33m]\u001b[0m\u001b[1;33m)\u001b[0m\u001b[1;33m)\u001b[0m\u001b[1;33m\u001b[0m\u001b[1;33m\u001b[0m\u001b[0m\n\u001b[0m\u001b[0;32m    162\u001b[0m         \u001b[1;32melif\u001b[0m \u001b[0mself\u001b[0m\u001b[1;33m.\u001b[0m\u001b[0mcomm_method\u001b[0m \u001b[1;32mis\u001b[0m \u001b[1;34m'eth'\u001b[0m\u001b[1;33m:\u001b[0m\u001b[1;33m\u001b[0m\u001b[1;33m\u001b[0m\u001b[0m\n\u001b[0;32m    163\u001b[0m             \u001b[0mself\u001b[0m\u001b[1;33m.\u001b[0m\u001b[0mcomm_eth_default_ascii_cmd_socket\u001b[0m\u001b[1;33m.\u001b[0m\u001b[0msend\u001b[0m\u001b[1;33m(\u001b[0m\u001b[0mto_send_bytes\u001b[0m\u001b[1;33m)\u001b[0m\u001b[1;33m\u001b[0m\u001b[1;33m\u001b[0m\u001b[0m\n",
      "\u001b[1;32mC:\\ProgramData\\Anaconda3\\lib\\site-packages\\serial\\serialwin32.py\u001b[0m in \u001b[0;36mwrite\u001b[1;34m(self, data)\u001b[0m\n\u001b[0;32m    302\u001b[0m         \u001b[1;34m\"\"\"Output the given byte string over the serial port.\"\"\"\u001b[0m\u001b[1;33m\u001b[0m\u001b[1;33m\u001b[0m\u001b[0m\n\u001b[0;32m    303\u001b[0m         \u001b[1;32mif\u001b[0m \u001b[1;32mnot\u001b[0m \u001b[0mself\u001b[0m\u001b[1;33m.\u001b[0m\u001b[0mis_open\u001b[0m\u001b[1;33m:\u001b[0m\u001b[1;33m\u001b[0m\u001b[1;33m\u001b[0m\u001b[0m\n\u001b[1;32m--> 304\u001b[1;33m             \u001b[1;32mraise\u001b[0m \u001b[0mportNotOpenError\u001b[0m\u001b[1;33m\u001b[0m\u001b[1;33m\u001b[0m\u001b[0m\n\u001b[0m\u001b[0;32m    305\u001b[0m         \u001b[1;31m#~ if not isinstance(data, (bytes, bytearray)):\u001b[0m\u001b[1;33m\u001b[0m\u001b[1;33m\u001b[0m\u001b[1;33m\u001b[0m\u001b[0m\n\u001b[0;32m    306\u001b[0m             \u001b[1;31m#~ raise TypeError('expected %s or bytearray, got %s' % (bytes, type(data)))\u001b[0m\u001b[1;33m\u001b[0m\u001b[1;33m\u001b[0m\u001b[1;33m\u001b[0m\u001b[0m\n",
      "    \u001b[1;31m[... skipping hidden 1 frame]\u001b[0m\n",
      "\u001b[1;32m<ipython-input-21-c7faf6abaa65>\u001b[0m in \u001b[0;36m<module>\u001b[1;34m\u001b[0m\n\u001b[1;32m----> 1\u001b[1;33m \u001b[0mamdc\u001b[0m\u001b[1;33m.\u001b[0m\u001b[0mcmd\u001b[0m\u001b[1;33m(\u001b[0m\u001b[1;34m\"help\"\u001b[0m\u001b[1;33m)\u001b[0m\u001b[1;33m\u001b[0m\u001b[1;33m\u001b[0m\u001b[0m\n\u001b[0m",
      "\u001b[1;32mC:\\Projectspace\\hecmCabinet\\AMDC-Firmware\\scripts\\AMDC.py\u001b[0m in \u001b[0;36mcmd\u001b[1;34m(self, cmd_str, timeout_sec)\u001b[0m\n\u001b[0;32m    159\u001b[0m         \u001b[1;32mif\u001b[0m \u001b[0mself\u001b[0m\u001b[1;33m.\u001b[0m\u001b[0mcomm_method\u001b[0m \u001b[1;32mis\u001b[0m \u001b[1;34m'uart'\u001b[0m\u001b[1;33m:\u001b[0m\u001b[1;33m\u001b[0m\u001b[1;33m\u001b[0m\u001b[0m\n\u001b[0;32m    160\u001b[0m             \u001b[1;32mfor\u001b[0m \u001b[0mb\u001b[0m \u001b[1;32min\u001b[0m \u001b[0mto_send_bytes\u001b[0m\u001b[1;33m:\u001b[0m\u001b[1;33m\u001b[0m\u001b[1;33m\u001b[0m\u001b[0m\n\u001b[1;32m--> 161\u001b[1;33m                 \u001b[0mself\u001b[0m\u001b[1;33m.\u001b[0m\u001b[0mcomm_uart_ser\u001b[0m\u001b[1;33m.\u001b[0m\u001b[0mwrite\u001b[0m\u001b[1;33m(\u001b[0m\u001b[0mbytes\u001b[0m\u001b[1;33m(\u001b[0m\u001b[1;33m[\u001b[0m\u001b[0mb\u001b[0m\u001b[1;33m]\u001b[0m\u001b[1;33m)\u001b[0m\u001b[1;33m)\u001b[0m\u001b[1;33m\u001b[0m\u001b[1;33m\u001b[0m\u001b[0m\n\u001b[0m\u001b[0;32m    162\u001b[0m         \u001b[1;32melif\u001b[0m \u001b[0mself\u001b[0m\u001b[1;33m.\u001b[0m\u001b[0mcomm_method\u001b[0m \u001b[1;32mis\u001b[0m \u001b[1;34m'eth'\u001b[0m\u001b[1;33m:\u001b[0m\u001b[1;33m\u001b[0m\u001b[1;33m\u001b[0m\u001b[0m\n\u001b[0;32m    163\u001b[0m             \u001b[0mself\u001b[0m\u001b[1;33m.\u001b[0m\u001b[0mcomm_eth_default_ascii_cmd_socket\u001b[0m\u001b[1;33m.\u001b[0m\u001b[0msend\u001b[0m\u001b[1;33m(\u001b[0m\u001b[0mto_send_bytes\u001b[0m\u001b[1;33m)\u001b[0m\u001b[1;33m\u001b[0m\u001b[1;33m\u001b[0m\u001b[0m\n",
      "\u001b[1;32mC:\\ProgramData\\Anaconda3\\lib\\site-packages\\serial\\serialwin32.py\u001b[0m in \u001b[0;36mwrite\u001b[1;34m(self, data)\u001b[0m\n\u001b[0;32m    302\u001b[0m         \u001b[1;34m\"\"\"Output the given byte string over the serial port.\"\"\"\u001b[0m\u001b[1;33m\u001b[0m\u001b[1;33m\u001b[0m\u001b[0m\n\u001b[0;32m    303\u001b[0m         \u001b[1;32mif\u001b[0m \u001b[1;32mnot\u001b[0m \u001b[0mself\u001b[0m\u001b[1;33m.\u001b[0m\u001b[0mis_open\u001b[0m\u001b[1;33m:\u001b[0m\u001b[1;33m\u001b[0m\u001b[1;33m\u001b[0m\u001b[0m\n\u001b[1;32m--> 304\u001b[1;33m             \u001b[1;32mraise\u001b[0m \u001b[0mportNotOpenError\u001b[0m\u001b[1;33m\u001b[0m\u001b[1;33m\u001b[0m\u001b[0m\n\u001b[0m\u001b[0;32m    305\u001b[0m         \u001b[1;31m#~ if not isinstance(data, (bytes, bytearray)):\u001b[0m\u001b[1;33m\u001b[0m\u001b[1;33m\u001b[0m\u001b[1;33m\u001b[0m\u001b[0m\n\u001b[0;32m    306\u001b[0m             \u001b[1;31m#~ raise TypeError('expected %s or bytearray, got %s' % (bytes, type(data)))\u001b[0m\u001b[1;33m\u001b[0m\u001b[1;33m\u001b[0m\u001b[1;33m\u001b[0m\u001b[0m\n",
      "\u001b[1;31mSerialException\u001b[0m: Attempting to use a port that is not open"
     ]
    }
   ],
   "source": [
    "amdc.cmd(\"tdeinit\")"
   ]
  },
  {
   "cell_type": "code",
   "execution_count": 6,
   "metadata": {},
   "outputs": [
    {
     "ename": "NameError",
     "evalue": "name 'amdc' is not defined",
     "output_type": "error",
     "traceback": [
      "\u001b[1;31m---------------------------------------------------------------------------\u001b[0m",
      "\u001b[1;31mNameError\u001b[0m                                 Traceback (most recent call last)",
      "\u001b[1;32m<ipython-input-6-1faea6d1a775>\u001b[0m in \u001b[0;36m<module>\u001b[1;34m\u001b[0m\n\u001b[1;32m----> 1\u001b[1;33m \u001b[0mamdc\u001b[0m\u001b[1;33m.\u001b[0m\u001b[0mcmd\u001b[0m\u001b[1;33m(\u001b[0m\u001b[1;34m\"tdeinit blink\"\u001b[0m\u001b[1;33m)\u001b[0m\u001b[1;33m\u001b[0m\u001b[1;33m\u001b[0m\u001b[0m\n\u001b[0m",
      "\u001b[1;31mNameError\u001b[0m: name 'amdc' is not defined"
     ]
    }
   ],
   "source": [
    "amdc.cmd(\"tdeinit blink\")"
   ]
  },
  {
   "cell_type": "code",
   "execution_count": 5,
   "metadata": {},
   "outputs": [
    {
     "name": "stdout",
     "output_type": "stream",
     "text": [
      "\t> tdeinit task_vsi\n",
      "['tdeinit task_vsi', 'UNKNOWN CMD']\n"
     ]
    },
    {
     "data": {
      "text/plain": [
       "['tdeinit task_vsi', 'UNKNOWN CMD']"
      ]
     },
     "execution_count": 5,
     "metadata": {},
     "output_type": "execute_result"
    }
   ],
   "source": [
    "amdc.cmd(\"tdeinit task_vsi\")"
   ]
  },
  {
   "cell_type": "code",
   "execution_count": null,
   "metadata": {},
   "outputs": [],
   "source": [
    "amdc.cmd(\"tdeinit BLINK\")"
   ]
  }
 ],
 "metadata": {
  "kernelspec": {
   "display_name": "Python 3",
   "language": "python",
   "name": "python3"
  },
  "language_info": {
   "codemirror_mode": {
    "name": "ipython",
    "version": 3
   },
   "file_extension": ".py",
   "mimetype": "text/x-python",
   "name": "python",
   "nbconvert_exporter": "python",
   "pygments_lexer": "ipython3",
   "version": "3.7.6"
  }
 },
 "nbformat": 4,
 "nbformat_minor": 5
}
